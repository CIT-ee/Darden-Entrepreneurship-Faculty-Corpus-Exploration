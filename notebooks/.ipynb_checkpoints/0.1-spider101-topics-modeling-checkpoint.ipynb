{
 "cells": [
  {
   "cell_type": "code",
   "execution_count": 35,
   "metadata": {},
   "outputs": [],
   "source": [
    "import os, sys\n",
    "sys.path.insert(0, os.environ['PROJECT_PATH'])"
   ]
  },
  {
   "cell_type": "code",
   "execution_count": 36,
   "metadata": {},
   "outputs": [],
   "source": [
    "import pandas as pd\n",
    "from sklearn.feature_extraction.text import TfidfVectorizer\n",
    "\n",
    "from config.resources import path_to"
   ]
  },
  {
   "cell_type": "code",
   "execution_count": 37,
   "metadata": {},
   "outputs": [],
   "source": [
    "jbv_df = pd.read_csv(path_to['jbv_meta'])"
   ]
  },
  {
   "cell_type": "code",
   "execution_count": 38,
   "metadata": {},
   "outputs": [],
   "source": [
    "import matplotlib.pyplot as plt\n",
    "\n",
    "%matplotlib inline"
   ]
  },
  {
   "cell_type": "code",
   "execution_count": 39,
   "metadata": {},
   "outputs": [
    {
     "data": {
      "text/plain": [
       "[<matplotlib.lines.Line2D at 0x7ff5f6c75690>]"
      ]
     },
     "execution_count": 39,
     "metadata": {},
     "output_type": "execute_result"
    },
    {
     "data": {
      "image/png": "[encoded data removed]",
      "text/plain": [
       "<Figure size 432x288 with 1 Axes>"
      ]
     },
     "metadata": {},
     "output_type": "display_data"
    }
   ],
   "source": [
    "jbv_df['abstract_len'] = jbv_df['AB'].dropna().apply(lambda a: len(a.split()))\n",
    "\n",
    "plt.plot(jbv_df['abstract_len'].tolist())"
   ]
  },
  {
   "cell_type": "code",
   "execution_count": 40,
   "metadata": {},
   "outputs": [],
   "source": [
    "abstracts = jbv_df['AB'].dropna()\n",
    "nb_features = 600 \n",
    "\n",
    "tfidf_vectorizer = TfidfVectorizer(max_df=0.95, min_df=2, max_features=nb_features, stop_words='english')\n",
    "tfidf = tfidf_vectorizer.fit_transform(abstracts)\n",
    "tfidf_feature_names = tfidf_vectorizer.get_feature_names()"
   ]
  },
  {
   "cell_type": "code",
   "execution_count": 41,
   "metadata": {},
   "outputs": [],
   "source": [
    "from sklearn.decomposition import NMF\n",
    "\n",
    "nb_topics = 20\n",
    "\n",
    "# Run NMF\n",
    "nmf = NMF(n_components=nb_topics, random_state=1, alpha=.1, l1_ratio=.5, init='nndsvd').fit(tfidf)"
   ]
  },
  {
   "cell_type": "code",
   "execution_count": 42,
   "metadata": {},
   "outputs": [],
   "source": [
    "def display_topics(model, feature_names, no_top_words):\n",
    "    for topic_idx, topic in enumerate(model.components_):\n",
    "        print \"Topic %d:\" % (topic_idx)\n",
    "        print \" \".join([feature_names[i]\n",
    "                        for i in topic.argsort()[:-no_top_words - 1:-1]])"
   ]
  },
  {
   "cell_type": "code",
   "execution_count": 43,
   "metadata": {},
   "outputs": [
    {
     "name": "stdout",
     "output_type": "stream",
     "text": [
      "Topic 0:\n",
      "firms performance firm resources technology innovation relationship small results research\n",
      "Topic 1:\n",
      "entrepreneurship research field issue article education theory scholars theories paper\n",
      "Topic 2:\n",
      "venture capitalists value capitalist criteria investment capital entrepreneur information ventures\n",
      "Topic 3:\n",
      "family 2003 members involvement agency firms ownership relationships business theory\n",
      "Topic 4:\n",
      "capital human investors public equity private financing companies funds investments\n",
      "Topic 5:\n",
      "new ventures venture product industry creation survival activities market knowledge\n",
      "Topic 6:\n",
      "self employment employed career entry individuals influence likelihood efficacy factors\n",
      "Topic 7:\n",
      "business small businesses owners start owner planning study founders successful\n",
      "Topic 8:\n",
      "social network networks ties capital impact paper founders perspective interaction\n",
      "Topic 9:\n",
      "franchising franchise franchisees franchisor franchisee franchisors units systems agency independent\n",
      "Topic 10:\n",
      "exit entry likelihood time local investments types female founder entrepreneurial\n",
      "Topic 11:\n",
      "growth survival size firm intentions high firms sales expansion patterns\n",
      "Topic 12:\n",
      "vc vcs backed investment portfolio venture firms investments fund funds\n",
      "Topic 13:\n",
      "institutional institutions political formal informal countries china environment change market\n",
      "Topic 14:\n",
      "women men female male gender owned differences businesses education countries\n",
      "Topic 15:\n",
      "entrepreneurial opportunity theory process opportunities entrepreneur model action rights intentions\n",
      "Topic 16:\n",
      "failure success cultural findings experience view associated using provide oriented\n",
      "Topic 17:\n",
      "team teams members founding diversity perceived management start satisfaction high\n",
      "Topic 18:\n",
      "decision making risk vcs decisions information uncertainty models use angel\n",
      "Topic 19:\n",
      "entrepreneurs experience decisions cognitive entrepreneur start individuals nascent make personal\n"
     ]
    }
   ],
   "source": [
    "nb_top_words = 10\n",
    "display_topics(nmf, tf_feature_names, nb_top_words)"
   ]
  },
  {
   "cell_type": "code",
   "execution_count": null,
   "metadata": {},
   "outputs": [],
   "source": []
  }
 ],
 "metadata": {
  "kernelspec": {
   "display_name": "Python 2",
   "language": "python",
   "name": "python2"
  },
  "language_info": {
   "codemirror_mode": {
    "name": "ipython",
    "version": 2
   },
   "file_extension": ".py",
   "mimetype": "text/x-python",
   "name": "python",
   "nbconvert_exporter": "python",
   "pygments_lexer": "ipython2",
   "version": "2.7.12"
  }
 },
 "nbformat": 4,
 "nbformat_minor": 2
}
